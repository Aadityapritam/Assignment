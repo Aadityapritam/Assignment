{
 "cells": [
  {
   "cell_type": "markdown",
   "id": "arabic-indonesia",
   "metadata": {},
   "source": [
    "# 1.1 Write a Python Program(with class concepts) to find the area of the triangle using the below\n",
    "formula.\n",
    "area = (s*(s-a)*(s-b)*(s-c)) ** 0.5\n",
    "Function to take the length of the sides of triangle from user should be defined in the parent\n",
    "class and function to calculate the area should be defined in subclass."
   ]
  },
  {
   "cell_type": "code",
   "execution_count": 16,
   "id": "sudden-response",
   "metadata": {},
   "outputs": [
    {
     "name": "stdout",
     "output_type": "stream",
     "text": [
      "Enter the sides of triangle followed by a whitespace2 4 5\n"
     ]
    },
    {
     "data": {
      "text/plain": [
       "7.21875"
      ]
     },
     "execution_count": 16,
     "metadata": {},
     "output_type": "execute_result"
    }
   ],
   "source": [
    "class Triangle:\n",
    "    def __init__(self,a,b,c):\n",
    "        self.a=a\n",
    "        self.b=b\n",
    "        self.c=c\n",
    "        self.s=(self.a+self.b+self.c)/2.0\n",
    "    \n",
    "class Area(Triangle):\n",
    "    def area(self):\n",
    "        self.area=(self.s*(self.s-self.a)*(self.s-self.b)*(self.s-self.c)) * 0.5\n",
    "        return self.area\n",
    "    \n",
    "sides=[int(x) for x in input(\"Enter the sides of triangle followed by a whitespace\").split(\" \")]\n",
    "obj=Area(sides[0],sides[1],sides[2])\n",
    "obj.area()"
   ]
  },
  {
   "cell_type": "markdown",
   "id": "affected-dairy",
   "metadata": {},
   "source": [
    "# 1.2 Write a function filter_long_words() that takes a list of words and an integer n and returns\n",
    "the list of words that are longer than n. "
   ]
  },
  {
   "cell_type": "code",
   "execution_count": 27,
   "id": "applied-weather",
   "metadata": {},
   "outputs": [
    {
     "name": "stdout",
     "output_type": "stream",
     "text": [
      "Enter the words seprated by a whitespace b/w each wordaa raj kjut\n",
      "3\n",
      "kjut\n"
     ]
    }
   ],
   "source": [
    "def fiter_long_words(word_list,n):\n",
    "    for word in word_list:\n",
    "#         print(len(word))\n",
    "        if(len(word)>n):\n",
    "            print(word)\n",
    "        else:\n",
    "            pass\n",
    "        \n",
    "fiter_long_words([word for word in input(\"Enter the words seprated by a whitespace b/w each word\").split()],int(input()))"
   ]
  },
  {
   "cell_type": "markdown",
   "id": "multiple-conjunction",
   "metadata": {},
   "source": [
    "# 2.1 Write a Python program using function concept that maps list of words into a list of integers\n",
    "representing the lengths of the corresponding words.\n",
    "Hint: If a list [ ab,cde,erty] is passed on to the python function output should come as [2,3,4]\n",
    "Here 2,3 and 4 are the lengths of the words in the list."
   ]
  },
  {
   "cell_type": "code",
   "execution_count": 28,
   "id": "transparent-table",
   "metadata": {},
   "outputs": [
    {
     "name": "stdout",
     "output_type": "stream",
     "text": [
      "aaditya raj kk\n"
     ]
    },
    {
     "data": {
      "text/plain": [
       "[7, 3, 2]"
      ]
     },
     "execution_count": 28,
     "metadata": {},
     "output_type": "execute_result"
    }
   ],
   "source": [
    "def word_to_len(lst):\n",
    "    res=[]\n",
    "    for word in lst:\n",
    "        res.append(len(word))\n",
    "    return res\n",
    "word_to_len([word for word in input().split()])"
   ]
  },
  {
   "cell_type": "markdown",
   "id": "careful-holder",
   "metadata": {},
   "source": [
    "# 2.2 Write a Python function which takes a character (i.e. a string of length 1) and returns True if\n",
    "it is a vowel, False otherwise."
   ]
  },
  {
   "cell_type": "code",
   "execution_count": 31,
   "id": "enormous-progressive",
   "metadata": {},
   "outputs": [
    {
     "name": "stdout",
     "output_type": "stream",
     "text": [
      "b\n"
     ]
    },
    {
     "data": {
      "text/plain": [
       "False"
      ]
     },
     "execution_count": 31,
     "metadata": {},
     "output_type": "execute_result"
    }
   ],
   "source": [
    "def check_char(char):\n",
    "    vowel=['a','e','i','o','u']\n",
    "    if(char in vowel):\n",
    "        return True\n",
    "    else:\n",
    "        return False\n",
    "    \n",
    "check_char(input())"
   ]
  },
  {
   "cell_type": "code",
   "execution_count": null,
   "id": "outer-interest",
   "metadata": {},
   "outputs": [],
   "source": []
  }
 ],
 "metadata": {
  "kernelspec": {
   "display_name": "Python 3",
   "language": "python",
   "name": "python3"
  },
  "language_info": {
   "codemirror_mode": {
    "name": "ipython",
    "version": 3
   },
   "file_extension": ".py",
   "mimetype": "text/x-python",
   "name": "python",
   "nbconvert_exporter": "python",
   "pygments_lexer": "ipython3",
   "version": "3.7.4"
  }
 },
 "nbformat": 4,
 "nbformat_minor": 5
}
